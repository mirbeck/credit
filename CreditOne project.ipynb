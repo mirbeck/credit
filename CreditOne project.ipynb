{
 "cells": [
  {
   "cell_type": "code",
   "execution_count": 1,
   "metadata": {},
   "outputs": [
    {
     "name": "stdout",
     "output_type": "stream",
     "text": [
      "['default of credit card clients.csv', 'SBAnational.csv', 'Should This Loan be Approved or Denied A Large Dataset with Class Assignment Guidelines.pdf']\n"
     ]
    }
   ],
   "source": [
    "import pandas as pd\n",
    "import numpy as np\n",
    "import seaborn as sns\n",
    "import uszipcode\n",
    "from __future__ import print_function\n",
    "from uszipcode import SearchEngine\n",
    "from collections import Counter\n",
    "import mpld3 \n",
    "mpld3.enable_notebook()\n",
    "import matplotlib.pyplot as plt\n",
    "search = SearchEngine()\n",
    "import os\n",
    "\n",
    "os.chdir(\"/Users/mirbek/Desktop/Data Science/ubiqum/projects/DS5/Task1\")\n",
    "print(os.listdir(\"/Users/mirbek/Desktop/Data Science/ubiqum/projects/DS5/Task1\"))"
   ]
  },
  {
   "cell_type": "code",
   "execution_count": 2,
   "metadata": {},
   "outputs": [],
   "source": [
    "%config IPCompleter.greedy=True"
   ]
  },
  {
   "cell_type": "code",
   "execution_count": 3,
   "metadata": {},
   "outputs": [
    {
     "name": "stderr",
     "output_type": "stream",
     "text": [
      "/Users/mirbek/anaconda3/lib/python3.7/site-packages/IPython/core/interactiveshell.py:2785: DtypeWarning: Columns (9) have mixed types. Specify dtype option on import or set low_memory=False.\n",
      "  interactivity=interactivity, compiler=compiler, result=result)\n"
     ]
    }
   ],
   "source": [
    "credit = pd.read_csv('SBAnational.csv', header ='infer')"
   ]
  },
  {
   "cell_type": "code",
   "execution_count": 4,
   "metadata": {},
   "outputs": [
    {
     "data": {
      "text/html": [
       "<div>\n",
       "<style scoped>\n",
       "    .dataframe tbody tr th:only-of-type {\n",
       "        vertical-align: middle;\n",
       "    }\n",
       "\n",
       "    .dataframe tbody tr th {\n",
       "        vertical-align: top;\n",
       "    }\n",
       "\n",
       "    .dataframe thead th {\n",
       "        text-align: right;\n",
       "    }\n",
       "</style>\n",
       "<table border=\"1\" class=\"dataframe\">\n",
       "  <thead>\n",
       "    <tr style=\"text-align: right;\">\n",
       "      <th></th>\n",
       "      <th>LoanNr_ChkDgt</th>\n",
       "      <th>Name</th>\n",
       "      <th>City</th>\n",
       "      <th>State</th>\n",
       "      <th>Zip</th>\n",
       "      <th>Bank</th>\n",
       "      <th>BankState</th>\n",
       "      <th>NAICS</th>\n",
       "      <th>ApprovalDate</th>\n",
       "      <th>ApprovalFY</th>\n",
       "      <th>...</th>\n",
       "      <th>RevLineCr</th>\n",
       "      <th>LowDoc</th>\n",
       "      <th>ChgOffDate</th>\n",
       "      <th>DisbursementDate</th>\n",
       "      <th>DisbursementGross</th>\n",
       "      <th>BalanceGross</th>\n",
       "      <th>MIS_Status</th>\n",
       "      <th>ChgOffPrinGr</th>\n",
       "      <th>GrAppv</th>\n",
       "      <th>SBA_Appv</th>\n",
       "    </tr>\n",
       "  </thead>\n",
       "  <tbody>\n",
       "    <tr>\n",
       "      <th>0</th>\n",
       "      <td>1000014003</td>\n",
       "      <td>ABC HOBBYCRAFT</td>\n",
       "      <td>EVANSVILLE</td>\n",
       "      <td>IN</td>\n",
       "      <td>47711</td>\n",
       "      <td>FIFTH THIRD BANK</td>\n",
       "      <td>OH</td>\n",
       "      <td>451120</td>\n",
       "      <td>28-Feb-97</td>\n",
       "      <td>1997</td>\n",
       "      <td>...</td>\n",
       "      <td>N</td>\n",
       "      <td>Y</td>\n",
       "      <td>NaN</td>\n",
       "      <td>28-Feb-99</td>\n",
       "      <td>$60,000.00</td>\n",
       "      <td>$0.00</td>\n",
       "      <td>P I F</td>\n",
       "      <td>$0.00</td>\n",
       "      <td>$60,000.00</td>\n",
       "      <td>$48,000.00</td>\n",
       "    </tr>\n",
       "    <tr>\n",
       "      <th>1</th>\n",
       "      <td>1000024006</td>\n",
       "      <td>LANDMARK BAR &amp; GRILLE (THE)</td>\n",
       "      <td>NEW PARIS</td>\n",
       "      <td>IN</td>\n",
       "      <td>46526</td>\n",
       "      <td>1ST SOURCE BANK</td>\n",
       "      <td>IN</td>\n",
       "      <td>722410</td>\n",
       "      <td>28-Feb-97</td>\n",
       "      <td>1997</td>\n",
       "      <td>...</td>\n",
       "      <td>N</td>\n",
       "      <td>Y</td>\n",
       "      <td>NaN</td>\n",
       "      <td>31-May-97</td>\n",
       "      <td>$40,000.00</td>\n",
       "      <td>$0.00</td>\n",
       "      <td>P I F</td>\n",
       "      <td>$0.00</td>\n",
       "      <td>$40,000.00</td>\n",
       "      <td>$32,000.00</td>\n",
       "    </tr>\n",
       "    <tr>\n",
       "      <th>2</th>\n",
       "      <td>1000034009</td>\n",
       "      <td>WHITLOCK DDS, TODD M.</td>\n",
       "      <td>BLOOMINGTON</td>\n",
       "      <td>IN</td>\n",
       "      <td>47401</td>\n",
       "      <td>GRANT COUNTY STATE BANK</td>\n",
       "      <td>IN</td>\n",
       "      <td>621210</td>\n",
       "      <td>28-Feb-97</td>\n",
       "      <td>1997</td>\n",
       "      <td>...</td>\n",
       "      <td>N</td>\n",
       "      <td>N</td>\n",
       "      <td>NaN</td>\n",
       "      <td>31-Dec-97</td>\n",
       "      <td>$287,000.00</td>\n",
       "      <td>$0.00</td>\n",
       "      <td>P I F</td>\n",
       "      <td>$0.00</td>\n",
       "      <td>$287,000.00</td>\n",
       "      <td>$215,250.00</td>\n",
       "    </tr>\n",
       "    <tr>\n",
       "      <th>3</th>\n",
       "      <td>1000044001</td>\n",
       "      <td>BIG BUCKS PAWN &amp; JEWELRY, LLC</td>\n",
       "      <td>BROKEN ARROW</td>\n",
       "      <td>OK</td>\n",
       "      <td>74012</td>\n",
       "      <td>1ST NATL BK &amp; TR CO OF BROKEN</td>\n",
       "      <td>OK</td>\n",
       "      <td>0</td>\n",
       "      <td>28-Feb-97</td>\n",
       "      <td>1997</td>\n",
       "      <td>...</td>\n",
       "      <td>N</td>\n",
       "      <td>Y</td>\n",
       "      <td>NaN</td>\n",
       "      <td>30-Jun-97</td>\n",
       "      <td>$35,000.00</td>\n",
       "      <td>$0.00</td>\n",
       "      <td>P I F</td>\n",
       "      <td>$0.00</td>\n",
       "      <td>$35,000.00</td>\n",
       "      <td>$28,000.00</td>\n",
       "    </tr>\n",
       "    <tr>\n",
       "      <th>4</th>\n",
       "      <td>1000054004</td>\n",
       "      <td>ANASTASIA CONFECTIONS, INC.</td>\n",
       "      <td>ORLANDO</td>\n",
       "      <td>FL</td>\n",
       "      <td>32801</td>\n",
       "      <td>FLORIDA BUS. DEVEL CORP</td>\n",
       "      <td>FL</td>\n",
       "      <td>0</td>\n",
       "      <td>28-Feb-97</td>\n",
       "      <td>1997</td>\n",
       "      <td>...</td>\n",
       "      <td>N</td>\n",
       "      <td>N</td>\n",
       "      <td>NaN</td>\n",
       "      <td>14-May-97</td>\n",
       "      <td>$229,000.00</td>\n",
       "      <td>$0.00</td>\n",
       "      <td>P I F</td>\n",
       "      <td>$0.00</td>\n",
       "      <td>$229,000.00</td>\n",
       "      <td>$229,000.00</td>\n",
       "    </tr>\n",
       "  </tbody>\n",
       "</table>\n",
       "<p>5 rows × 27 columns</p>\n",
       "</div>"
      ],
      "text/plain": [
       "   LoanNr_ChkDgt                           Name          City State    Zip  \\\n",
       "0     1000014003                 ABC HOBBYCRAFT    EVANSVILLE    IN  47711   \n",
       "1     1000024006    LANDMARK BAR & GRILLE (THE)     NEW PARIS    IN  46526   \n",
       "2     1000034009          WHITLOCK DDS, TODD M.   BLOOMINGTON    IN  47401   \n",
       "3     1000044001  BIG BUCKS PAWN & JEWELRY, LLC  BROKEN ARROW    OK  74012   \n",
       "4     1000054004    ANASTASIA CONFECTIONS, INC.       ORLANDO    FL  32801   \n",
       "\n",
       "                            Bank BankState   NAICS ApprovalDate ApprovalFY  \\\n",
       "0               FIFTH THIRD BANK        OH  451120    28-Feb-97       1997   \n",
       "1                1ST SOURCE BANK        IN  722410    28-Feb-97       1997   \n",
       "2        GRANT COUNTY STATE BANK        IN  621210    28-Feb-97       1997   \n",
       "3  1ST NATL BK & TR CO OF BROKEN        OK       0    28-Feb-97       1997   \n",
       "4        FLORIDA BUS. DEVEL CORP        FL       0    28-Feb-97       1997   \n",
       "\n",
       "       ...       RevLineCr  LowDoc  ChgOffDate  DisbursementDate  \\\n",
       "0      ...               N       Y         NaN         28-Feb-99   \n",
       "1      ...               N       Y         NaN         31-May-97   \n",
       "2      ...               N       N         NaN         31-Dec-97   \n",
       "3      ...               N       Y         NaN         30-Jun-97   \n",
       "4      ...               N       N         NaN         14-May-97   \n",
       "\n",
       "   DisbursementGross  BalanceGross  MIS_Status ChgOffPrinGr        GrAppv  \\\n",
       "0        $60,000.00         $0.00        P I F       $0.00    $60,000.00    \n",
       "1        $40,000.00         $0.00        P I F       $0.00    $40,000.00    \n",
       "2       $287,000.00         $0.00        P I F       $0.00   $287,000.00    \n",
       "3        $35,000.00         $0.00        P I F       $0.00    $35,000.00    \n",
       "4       $229,000.00         $0.00        P I F       $0.00   $229,000.00    \n",
       "\n",
       "       SBA_Appv  \n",
       "0   $48,000.00   \n",
       "1   $32,000.00   \n",
       "2  $215,250.00   \n",
       "3   $28,000.00   \n",
       "4  $229,000.00   \n",
       "\n",
       "[5 rows x 27 columns]"
      ]
     },
     "execution_count": 4,
     "metadata": {},
     "output_type": "execute_result"
    }
   ],
   "source": [
    "#Quick overview of our Dataset and observing the types of variables\n",
    "credit.head()"
   ]
  },
  {
   "cell_type": "code",
   "execution_count": 5,
   "metadata": {},
   "outputs": [
    {
     "data": {
      "text/plain": [
       "(899164, 27)"
      ]
     },
     "execution_count": 5,
     "metadata": {},
     "output_type": "execute_result"
    }
   ],
   "source": [
    "#Deleting duplicates if any\n",
    "credit = credit.drop_duplicates(keep = 'first')\n",
    "#Shape of the data 899164 rows and 27 columns\n",
    "credit.shape"
   ]
  },
  {
   "cell_type": "code",
   "execution_count": 6,
   "metadata": {},
   "outputs": [
    {
     "name": "stdout",
     "output_type": "stream",
     "text": [
      "Index(['LoanNr_ChkDgt', 'Name', 'City', 'State', 'Zip', 'Bank', 'BankState',\n",
      "       'NAICS', 'ApprovalDate', 'ApprovalFY', 'Term', 'NoEmp', 'NewExist',\n",
      "       'CreateJob', 'RetainedJob', 'FranchiseCode', 'UrbanRural', 'RevLineCr',\n",
      "       'LowDoc', 'ChgOffDate', 'DisbursementDate', 'DisbursementGross',\n",
      "       'BalanceGross', 'MIS_Status', 'ChgOffPrinGr', 'GrAppv', 'SBA_Appv'],\n",
      "      dtype='object')\n"
     ]
    }
   ],
   "source": [
    "#All features we have\n",
    "print(credit.dtypes.index)"
   ]
  },
  {
   "cell_type": "code",
   "execution_count": 7,
   "metadata": {},
   "outputs": [
    {
     "data": {
      "text/html": [
       "<div>\n",
       "<style scoped>\n",
       "    .dataframe tbody tr th:only-of-type {\n",
       "        vertical-align: middle;\n",
       "    }\n",
       "\n",
       "    .dataframe tbody tr th {\n",
       "        vertical-align: top;\n",
       "    }\n",
       "\n",
       "    .dataframe thead th {\n",
       "        text-align: right;\n",
       "    }\n",
       "</style>\n",
       "<table border=\"1\" class=\"dataframe\">\n",
       "  <thead>\n",
       "    <tr style=\"text-align: right;\">\n",
       "      <th></th>\n",
       "      <th>LoanNr_ChkDgt</th>\n",
       "      <th>Zip</th>\n",
       "      <th>NAICS</th>\n",
       "      <th>Term</th>\n",
       "      <th>NoEmp</th>\n",
       "      <th>NewExist</th>\n",
       "      <th>CreateJob</th>\n",
       "      <th>RetainedJob</th>\n",
       "      <th>FranchiseCode</th>\n",
       "      <th>UrbanRural</th>\n",
       "    </tr>\n",
       "  </thead>\n",
       "  <tbody>\n",
       "    <tr>\n",
       "      <th>count</th>\n",
       "      <td>8.991640e+05</td>\n",
       "      <td>899164.000000</td>\n",
       "      <td>899164.000000</td>\n",
       "      <td>899164.000000</td>\n",
       "      <td>899164.000000</td>\n",
       "      <td>899028.000000</td>\n",
       "      <td>899164.000000</td>\n",
       "      <td>899164.000000</td>\n",
       "      <td>899164.000000</td>\n",
       "      <td>899164.000000</td>\n",
       "    </tr>\n",
       "    <tr>\n",
       "      <th>mean</th>\n",
       "      <td>4.772612e+09</td>\n",
       "      <td>53804.391241</td>\n",
       "      <td>398660.950146</td>\n",
       "      <td>110.773078</td>\n",
       "      <td>11.411353</td>\n",
       "      <td>1.280404</td>\n",
       "      <td>8.430376</td>\n",
       "      <td>10.797257</td>\n",
       "      <td>2753.725933</td>\n",
       "      <td>0.757748</td>\n",
       "    </tr>\n",
       "    <tr>\n",
       "      <th>std</th>\n",
       "      <td>2.538175e+09</td>\n",
       "      <td>31184.159152</td>\n",
       "      <td>263318.312759</td>\n",
       "      <td>78.857305</td>\n",
       "      <td>74.108196</td>\n",
       "      <td>0.451750</td>\n",
       "      <td>236.688165</td>\n",
       "      <td>237.120600</td>\n",
       "      <td>12758.019136</td>\n",
       "      <td>0.646436</td>\n",
       "    </tr>\n",
       "    <tr>\n",
       "      <th>min</th>\n",
       "      <td>1.000014e+09</td>\n",
       "      <td>0.000000</td>\n",
       "      <td>0.000000</td>\n",
       "      <td>0.000000</td>\n",
       "      <td>0.000000</td>\n",
       "      <td>0.000000</td>\n",
       "      <td>0.000000</td>\n",
       "      <td>0.000000</td>\n",
       "      <td>0.000000</td>\n",
       "      <td>0.000000</td>\n",
       "    </tr>\n",
       "    <tr>\n",
       "      <th>25%</th>\n",
       "      <td>2.589758e+09</td>\n",
       "      <td>27587.000000</td>\n",
       "      <td>235210.000000</td>\n",
       "      <td>60.000000</td>\n",
       "      <td>2.000000</td>\n",
       "      <td>1.000000</td>\n",
       "      <td>0.000000</td>\n",
       "      <td>0.000000</td>\n",
       "      <td>1.000000</td>\n",
       "      <td>0.000000</td>\n",
       "    </tr>\n",
       "    <tr>\n",
       "      <th>50%</th>\n",
       "      <td>4.361439e+09</td>\n",
       "      <td>55410.000000</td>\n",
       "      <td>445310.000000</td>\n",
       "      <td>84.000000</td>\n",
       "      <td>4.000000</td>\n",
       "      <td>1.000000</td>\n",
       "      <td>0.000000</td>\n",
       "      <td>1.000000</td>\n",
       "      <td>1.000000</td>\n",
       "      <td>1.000000</td>\n",
       "    </tr>\n",
       "    <tr>\n",
       "      <th>75%</th>\n",
       "      <td>6.904627e+09</td>\n",
       "      <td>83704.000000</td>\n",
       "      <td>561730.000000</td>\n",
       "      <td>120.000000</td>\n",
       "      <td>10.000000</td>\n",
       "      <td>2.000000</td>\n",
       "      <td>1.000000</td>\n",
       "      <td>4.000000</td>\n",
       "      <td>1.000000</td>\n",
       "      <td>1.000000</td>\n",
       "    </tr>\n",
       "    <tr>\n",
       "      <th>max</th>\n",
       "      <td>9.996003e+09</td>\n",
       "      <td>99999.000000</td>\n",
       "      <td>928120.000000</td>\n",
       "      <td>569.000000</td>\n",
       "      <td>9999.000000</td>\n",
       "      <td>2.000000</td>\n",
       "      <td>8800.000000</td>\n",
       "      <td>9500.000000</td>\n",
       "      <td>99999.000000</td>\n",
       "      <td>2.000000</td>\n",
       "    </tr>\n",
       "  </tbody>\n",
       "</table>\n",
       "</div>"
      ],
      "text/plain": [
       "       LoanNr_ChkDgt            Zip          NAICS           Term  \\\n",
       "count   8.991640e+05  899164.000000  899164.000000  899164.000000   \n",
       "mean    4.772612e+09   53804.391241  398660.950146     110.773078   \n",
       "std     2.538175e+09   31184.159152  263318.312759      78.857305   \n",
       "min     1.000014e+09       0.000000       0.000000       0.000000   \n",
       "25%     2.589758e+09   27587.000000  235210.000000      60.000000   \n",
       "50%     4.361439e+09   55410.000000  445310.000000      84.000000   \n",
       "75%     6.904627e+09   83704.000000  561730.000000     120.000000   \n",
       "max     9.996003e+09   99999.000000  928120.000000     569.000000   \n",
       "\n",
       "               NoEmp       NewExist      CreateJob    RetainedJob  \\\n",
       "count  899164.000000  899028.000000  899164.000000  899164.000000   \n",
       "mean       11.411353       1.280404       8.430376      10.797257   \n",
       "std        74.108196       0.451750     236.688165     237.120600   \n",
       "min         0.000000       0.000000       0.000000       0.000000   \n",
       "25%         2.000000       1.000000       0.000000       0.000000   \n",
       "50%         4.000000       1.000000       0.000000       1.000000   \n",
       "75%        10.000000       2.000000       1.000000       4.000000   \n",
       "max      9999.000000       2.000000    8800.000000    9500.000000   \n",
       "\n",
       "       FranchiseCode     UrbanRural  \n",
       "count  899164.000000  899164.000000  \n",
       "mean     2753.725933       0.757748  \n",
       "std     12758.019136       0.646436  \n",
       "min         0.000000       0.000000  \n",
       "25%         1.000000       0.000000  \n",
       "50%         1.000000       1.000000  \n",
       "75%         1.000000       1.000000  \n",
       "max     99999.000000       2.000000  "
      ]
     },
     "execution_count": 7,
     "metadata": {},
     "output_type": "execute_result"
    }
   ],
   "source": [
    "#Summary of data frame (count, mean, standart deviation, min, quartiles, max)\n",
    "credit.describe()"
   ]
  },
  {
   "cell_type": "code",
   "execution_count": 8,
   "metadata": {},
   "outputs": [
    {
     "data": {
      "text/plain": [
       "LoanNr_ChkDgt             0\n",
       "Name                     14\n",
       "City                     30\n",
       "State                    14\n",
       "Zip                       0\n",
       "Bank                   1559\n",
       "BankState              1566\n",
       "NAICS                     0\n",
       "ApprovalDate              0\n",
       "ApprovalFY                0\n",
       "Term                      0\n",
       "NoEmp                     0\n",
       "NewExist                136\n",
       "CreateJob                 0\n",
       "RetainedJob               0\n",
       "FranchiseCode             0\n",
       "UrbanRural                0\n",
       "RevLineCr              4528\n",
       "LowDoc                 2582\n",
       "ChgOffDate           736465\n",
       "DisbursementDate       2368\n",
       "DisbursementGross         0\n",
       "BalanceGross              0\n",
       "MIS_Status             1997\n",
       "ChgOffPrinGr              0\n",
       "GrAppv                    0\n",
       "SBA_Appv                  0\n",
       "dtype: int64"
      ]
     },
     "execution_count": 8,
     "metadata": {},
     "output_type": "execute_result"
    }
   ],
   "source": [
    "#NA observation. Lot of NAs :(\n",
    "credit.isnull().sum()"
   ]
  },
  {
   "cell_type": "code",
   "execution_count": 9,
   "metadata": {},
   "outputs": [
    {
     "data": {
      "text/plain": [
       "dict_keys(['P I F', 'CHGOFF', nan])"
      ]
     },
     "execution_count": 9,
     "metadata": {},
     "output_type": "execute_result"
    }
   ],
   "source": [
    "#Our target Value is to predict MIS_Value according to the documenation MIS_Status has 2 variables: \n",
    "#Loan status charged off = CHGOFF, Paid in full = PIF\n",
    "Counter(credit.MIS_Status).keys() # We have: \"PIF\", CHGOFF, nan in this column"
   ]
  },
  {
   "cell_type": "code",
   "execution_count": 10,
   "metadata": {},
   "outputs": [
    {
     "data": {
      "text/plain": [
       "dict_values([739609, 157558, 1997])"
      ]
     },
     "execution_count": 10,
     "metadata": {},
     "output_type": "execute_result"
    }
   ],
   "source": [
    "Counter(credit.MIS_Status).values() # \"PIF\": 739609, CHGOFF: 157558, nan:1997\n",
    "#Pretty imbalanced. We will try not to loose our rows with CHGOFF values while we are cleaning our dataset."
   ]
  },
  {
   "cell_type": "code",
   "execution_count": 11,
   "metadata": {},
   "outputs": [
    {
     "data": {
      "text/plain": [
       "LoanNr_ChkDgt             0\n",
       "City                      4\n",
       "State                     4\n",
       "Zip                       0\n",
       "Bank                   1559\n",
       "BankState              1566\n",
       "NAICS                     0\n",
       "ApprovalDate              0\n",
       "ApprovalFY                0\n",
       "Term                      0\n",
       "NoEmp                     0\n",
       "NewExist                136\n",
       "CreateJob                 0\n",
       "RetainedJob               0\n",
       "FranchiseCode             0\n",
       "UrbanRural                0\n",
       "RevLineCr              4528\n",
       "LowDoc                 2582\n",
       "ChgOffDate           736465\n",
       "DisbursementDate       2368\n",
       "DisbursementGross         0\n",
       "BalanceGross              0\n",
       "MIS_Status             1997\n",
       "ChgOffPrinGr              0\n",
       "GrAppv                    0\n",
       "SBA_Appv                  0\n",
       "dtype: int64"
      ]
     },
     "execution_count": 11,
     "metadata": {},
     "output_type": "execute_result"
    }
   ],
   "source": [
    "                                                    #####FIRST Dealing with NAs.##### \n",
    "                                                          #Name, City and State\n",
    "# There 4 columns belongs to Borrower information: Name, City, State and Zip.\n",
    "#Name is unique and useless and we can drop entire column.\n",
    "credit = credit.drop(axis =1, columns = ['Name'])\n",
    "#Next City and State. As you can see there are no NAs in Zip, so we can easily impute City and State uzing Zip values\n",
    "#Creating condition to our loop\n",
    "cond = (credit.City.isnull()|credit.State.isnull())\n",
    "missing_rows = credit[cond].index\n",
    "#I will go through loop and using Index number of missing rows, I will impute City and State using zearch.by_zipcode function\n",
    "for i in missing_rows:\n",
    "    zipcode = search.by_zipcode(credit.iloc[i,3]) # 3 is corresponds to Zip code\n",
    "    credit.iloc[i,1] = zipcode.major_city # 1 -> City\n",
    "    credit.iloc[i,2] = zipcode.state # 2 -> State\n",
    "#Check how our NA's was imputed. We still have 4 NAs. I have looke through of them. One zipcode = 0 \n",
    "#and other 3 are not in list the of search.by_zipcode function. I think we can delete this rows.\n",
    "credit.isnull().sum()"
   ]
  },
  {
   "cell_type": "code",
   "execution_count": 12,
   "metadata": {},
   "outputs": [
    {
     "name": "stdout",
     "output_type": "stream",
     "text": [
      "473949 425215\n"
     ]
    }
   ],
   "source": [
    "#Next features with lot of NA's are Bank and BankState. \n",
    "#I would like to check if State of borrower = State of Bank. \n",
    "#If so we can just delete one of them.\n",
    "equal = 0\n",
    "non_equal = 0\n",
    "for i in credit.index:\n",
    "    if credit.State[i] == credit.BankState[i]:\n",
    "        equal = equal + 1\n",
    "    else:\n",
    "        non_equal = non_equal +1\n",
    "print(equal, non_equal)\n",
    "# Sad. As you can see below it's not correct assumption 473949 cases are equal and 425215 are not."
   ]
  },
  {
   "cell_type": "code",
   "execution_count": 13,
   "metadata": {},
   "outputs": [
    {
     "name": "stdout",
     "output_type": "stream",
     "text": [
      "72 1494\n"
     ]
    }
   ],
   "source": [
    "#Since our goal is to define default case or not, we will check are there default cases in rows where we don't know\n",
    "#the Bank Name and Bank State. \n",
    "cond_1 = credit.Bank.isnull()|credit.BankState.isnull()\n",
    "missing_rows_1 = credit[cond_1].index\n",
    "yes = 0\n",
    "no = 0\n",
    "for i in missing_rows_1:\n",
    "    if credit.MIS_Status[i] == 'CHGOFF':\n",
    "        yes = yes+1\n",
    "    else:\n",
    "        no = no +1\n",
    "print(yes,no)\n",
    "#Not bad, 72 cases against 1494. I'm not still sure do we need columns with State of the Bank and Bank name according.\n",
    "#We can delete 1494 rows with not default cases, since we have already imbalanced data. We will see."
   ]
  },
  {
   "cell_type": "code",
   "execution_count": 14,
   "metadata": {},
   "outputs": [],
   "source": [
    "#Feature - 'ChgOffDate' corresponds to the date when a loan was declared to be in default. \n",
    "#I made little investigation about ChgOffDate feature we have 739609 paid cases and we have 736465 NA's in this feature \n",
    "#seems like if credit paid there is NA in this featue. default date = default case.\n",
    "#So we will just drop this feature.\n",
    "credit = credit.drop(axis =1, columns = ['ChgOffDate'])"
   ]
  },
  {
   "cell_type": "code",
   "execution_count": 15,
   "metadata": {},
   "outputs": [
    {
     "data": {
      "text/plain": [
       "dict_keys([1, 0])"
      ]
     },
     "execution_count": 15,
     "metadata": {},
     "output_type": "execute_result"
    }
   ],
   "source": [
    "#Next I want to celan my dependent variable - MIS_Status drop NA's and change dtype from object to ineteger.\n",
    "#1 - grant a loan (low risk of default), 0 - not grant a loan (high risk of default)\n",
    "#And of course drop 4 rows in City and State column with NAs\n",
    "credit = credit.dropna(axis =0, subset=['City','State','MIS_Status'])\n",
    "\n",
    "loan_status = {'P I F': 1,'CHGOFF': 0} \n",
    "credit.MIS_Status = [loan_status[item] for item in credit.MIS_Status] \n",
    "\n",
    "Counter(credit.MIS_Status).keys() # unique values now we have only 1 and 0 in column MIS_Status"
   ]
  },
  {
   "cell_type": "code",
   "execution_count": 16,
   "metadata": {},
   "outputs": [
    {
     "data": {
      "text/plain": [
       "dict_values([739607, 157556])"
      ]
     },
     "execution_count": 16,
     "metadata": {},
     "output_type": "execute_result"
    }
   ],
   "source": [
    "Counter(credit.MIS_Status).values() # count values 739607 = \"1\" against 157556 = \"0\""
   ]
  },
  {
   "cell_type": "code",
   "execution_count": 17,
   "metadata": {},
   "outputs": [],
   "source": [
    "#According to the documentation we have 5 columns with Currency values. I want to change all of them to the float.\n",
    "#It will be helpful for visualization and see the corealation of currency to our target value.\n",
    "currency = [19,20,22,23,24] #Column numbers we need to convert float.\n",
    "for i in currency:\n",
    "    credit[credit.columns[i]] = credit[credit.columns[i]].replace('[\\$,]', '', regex=True).astype(float) "
   ]
  },
  {
   "cell_type": "code",
   "execution_count": 18,
   "metadata": {},
   "outputs": [
    {
     "data": {
      "text/plain": [
       "LoanNr_ChkDgt           0\n",
       "City                    0\n",
       "State                   0\n",
       "Zip                     0\n",
       "Bank                 1505\n",
       "BankState            1512\n",
       "NAICS                   0\n",
       "ApprovalDate            0\n",
       "ApprovalFY              0\n",
       "Term                    0\n",
       "NoEmp                   0\n",
       "NewExist              134\n",
       "CreateJob               0\n",
       "RetainedJob             0\n",
       "FranchiseCode           0\n",
       "UrbanRural              0\n",
       "RevLineCr            4520\n",
       "LowDoc               2578\n",
       "DisbursementDate     2175\n",
       "DisbursementGross       0\n",
       "BalanceGross            0\n",
       "MIS_Status              0\n",
       "ChgOffPrinGr            0\n",
       "GrAppv                  0\n",
       "SBA_Appv                0\n",
       "dtype: int64"
      ]
     },
     "execution_count": 18,
     "metadata": {},
     "output_type": "execute_result"
    }
   ],
   "source": [
    "#Looks good.\n",
    "credit.isnull().sum()"
   ]
  },
  {
   "cell_type": "code",
   "execution_count": 19,
   "metadata": {},
   "outputs": [
    {
     "data": {
      "text/plain": [
       "dict_keys([2.0, 1.0, 0.0, nan, nan, nan, nan, nan, nan, nan, nan, nan, nan, nan, nan, nan, nan, nan, nan, nan, nan, nan, nan, nan, nan, nan, nan, nan, nan, nan, nan, nan, nan, nan, nan, nan, nan, nan, nan, nan, nan, nan, nan, nan, nan, nan, nan, nan, nan, nan, nan, nan, nan, nan, nan, nan, nan, nan, nan, nan, nan, nan, nan, nan, nan, nan, nan, nan, nan, nan, nan, nan, nan, nan, nan, nan, nan, nan, nan, nan, nan, nan, nan, nan, nan, nan, nan, nan, nan, nan, nan, nan, nan, nan, nan, nan, nan, nan, nan, nan, nan, nan, nan, nan, nan, nan, nan, nan, nan, nan, nan, nan, nan, nan, nan, nan, nan, nan, nan, nan, nan, nan, nan, nan, nan, nan, nan, nan, nan, nan, nan, nan, nan, nan, nan, nan, nan])"
      ]
     },
     "execution_count": 19,
     "metadata": {},
     "output_type": "execute_result"
    }
   ],
   "source": [
    "#Next feature is New Exist. According to the documentation\n",
    "#1 = Existing business, 2 = New businesswe \n",
    "#And at this moment we have 134 NAs\n",
    "Counter(credit.NewExist).keys() # unique values"
   ]
  },
  {
   "cell_type": "code",
   "execution_count": 20,
   "metadata": {},
   "outputs": [
    {
     "data": {
      "text/plain": [
       "dict_values([252559, 643443, 1027, 1, 1, 1, 1, 1, 1, 1, 1, 1, 1, 1, 1, 1, 1, 1, 1, 1, 1, 1, 1, 1, 1, 1, 1, 1, 1, 1, 1, 1, 1, 1, 1, 1, 1, 1, 1, 1, 1, 1, 1, 1, 1, 1, 1, 1, 1, 1, 1, 1, 1, 1, 1, 1, 1, 1, 1, 1, 1, 1, 1, 1, 1, 1, 1, 1, 1, 1, 1, 1, 1, 1, 1, 1, 1, 1, 1, 1, 1, 1, 1, 1, 1, 1, 1, 1, 1, 1, 1, 1, 1, 1, 1, 1, 1, 1, 1, 1, 1, 1, 1, 1, 1, 1, 1, 1, 1, 1, 1, 1, 1, 1, 1, 1, 1, 1, 1, 1, 1, 1, 1, 1, 1, 1, 1, 1, 1, 1, 1, 1, 1, 1, 1, 1, 1])"
      ]
     },
     "execution_count": 20,
     "metadata": {},
     "output_type": "execute_result"
    }
   ],
   "source": [
    "Counter(credit.NewExist).values() # count values \n",
    "#In fact we have more NAs than 136. \n",
    "#252559 = New business\n",
    "#64443 = Existing business\n",
    "#1027 = \"0\" whatever it means\n",
    "#134 = nan as we can see from previous output"
   ]
  },
  {
   "cell_type": "code",
   "execution_count": 21,
   "metadata": {},
   "outputs": [
    {
     "name": "stderr",
     "output_type": "stream",
     "text": [
      "/Users/mirbek/anaconda3/lib/python3.7/site-packages/ipykernel_launcher.py:7: SettingWithCopyWarning: \n",
      "A value is trying to be set on a copy of a slice from a DataFrame\n",
      "\n",
      "See the caveats in the documentation: http://pandas.pydata.org/pandas-docs/stable/indexing.html#indexing-view-versus-copy\n",
      "  import sys\n"
     ]
    }
   ],
   "source": [
    "#We have feature 'RetainedJob' - From documentation we know it show a number of jobs retained. \n",
    "#I can assume that if loan is going to retain some jobs it is existing business.\n",
    "# I will create condition and itirate through loop to \n",
    "#asign new value \"1\" which is Existing business to those rows where Retained Job is >= 1\n",
    "cond_2 = credit[(credit['NewExist'] == 0) & (credit['RetainedJob'] >=1)].index\n",
    "for i in cond_2:\n",
    "    credit.RetainedJob[i] = 1 #11 corresponds to NewExist column"
   ]
  },
  {
   "cell_type": "code",
   "execution_count": 22,
   "metadata": {},
   "outputs": [
    {
     "name": "stderr",
     "output_type": "stream",
     "text": [
      "/Users/mirbek/anaconda3/lib/python3.7/site-packages/ipykernel_launcher.py:5: SettingWithCopyWarning: \n",
      "A value is trying to be set on a copy of a slice from a DataFrame\n",
      "\n",
      "See the caveats in the documentation: http://pandas.pydata.org/pandas-docs/stable/indexing.html#indexing-view-versus-copy\n",
      "  \"\"\"\n"
     ]
    }
   ],
   "source": [
    "#Next we will do same thing with another condition is null and Retained Job >=1\n",
    "#More 115 rows to be changed to \"NewExist = 0\"\n",
    "cond_3 = credit[(credit.NewExist.isnull()) & (credit['RetainedJob'] >=1)].index\n",
    "for i in cond_3:\n",
    "    credit.RetainedJob[i] = 1"
   ]
  },
  {
   "cell_type": "code",
   "execution_count": 172,
   "metadata": {},
   "outputs": [],
   "source": [
    "#Not bad now we have 874 rows = 0 and 19 NAs.\n",
    "#I will check if there default cases inside in this rows.\n",
    "credit[(credit['NewExist'] == 0) & (credit['MIS_Status'] == 0)] #60 rows\n",
    "credit[(credit.NewExist.isnull()) & (credit['MIS_Status'] == 0)] #1 row\n",
    "#Our goal to impute accurately 61 row in NewExist, and we can delete others."
   ]
  },
  {
   "cell_type": "code",
   "execution_count": 171,
   "metadata": {},
   "outputs": [],
   "source": [
    "#Ok, we will continue our investigation.\n",
    "#Intersting column - \"FranchiseCode\":\n",
    "#Nofranchise = 0 or 1\n",
    "#Franchise code = other numbers\n",
    "#My assumption if Franchise code != 0 and != 1, may be it is New Business, not existing.\n",
    "#Someone get a franchise and opening a Starbucks in his city.\n",
    "Counter(credit.FranchiseCode).keys() #51732 Franchise Loans"
   ]
  },
  {
   "cell_type": "code",
   "execution_count": 170,
   "metadata": {},
   "outputs": [],
   "source": [
    "Counter(credit.FranchiseCode).values() # 845431 non Franchise Loans "
   ]
  },
  {
   "cell_type": "code",
   "execution_count": 26,
   "metadata": {},
   "outputs": [],
   "source": [
    "cond_4 = credit[(credit['FranchiseCode'] != 0) & (credit['FranchiseCode'] != 1)] #Lets store our Franchise cases"
   ]
  },
  {
   "cell_type": "code",
   "execution_count": 27,
   "metadata": {},
   "outputs": [
    {
     "data": {
      "text/plain": [
       "dict_values([27940, 23712, 73, 1, 1, 1, 1, 1, 1, 1])"
      ]
     },
     "execution_count": 27,
     "metadata": {},
     "output_type": "execute_result"
    }
   ],
   "source": [
    "#Lets chech our assumption if Franchise Code with digits = New business\n",
    "Counter(cond_4.NewExist).values()\n",
    "# We have:\n",
    "# 27940 rows indicated New Business\n",
    "# 23725 rows indicated Exisitng Business\n",
    "# 67 rows indicated NA in Existing Business\n",
    "# Our assumption is not correct!"
   ]
  },
  {
   "cell_type": "code",
   "execution_count": 28,
   "metadata": {},
   "outputs": [
    {
     "name": "stderr",
     "output_type": "stream",
     "text": [
      "/Users/mirbek/anaconda3/lib/python3.7/site-packages/ipykernel_launcher.py:6: SettingWithCopyWarning: \n",
      "A value is trying to be set on a copy of a slice from a DataFrame\n",
      "\n",
      "See the caveats in the documentation: http://pandas.pydata.org/pandas-docs/stable/indexing.html#indexing-view-versus-copy\n",
      "  \n"
     ]
    }
   ],
   "source": [
    "# I think I will stop my investigation on this stage and will drop NAs in NewExist feature.\n",
    "#It was before 134 NA + 1027 with zero Value, after imputation we have: 19 rows = NA and 874 = \"0\". In total 893\n",
    "#First I will asign 0 values as NA and after will drop all NA's in this feature.\n",
    "cond_5 = credit[(credit['NewExist'] == 0)].index\n",
    "for i in cond_5:\n",
    "    credit.NewExist[i] = np.nan #11 correcponds to NewExist column\n",
    "    \n",
    "credit = credit.dropna(axis =0, subset=['NewExist'])"
   ]
  },
  {
   "cell_type": "code",
   "execution_count": 29,
   "metadata": {},
   "outputs": [
    {
     "data": {
      "text/plain": [
       "LoanNr_ChkDgt           0\n",
       "City                    0\n",
       "State                   0\n",
       "Zip                     0\n",
       "Bank                 1503\n",
       "BankState            1510\n",
       "NAICS                   0\n",
       "ApprovalDate            0\n",
       "ApprovalFY              0\n",
       "Term                    0\n",
       "NoEmp                   0\n",
       "NewExist                0\n",
       "CreateJob               0\n",
       "RetainedJob             0\n",
       "FranchiseCode           0\n",
       "UrbanRural              0\n",
       "RevLineCr            4517\n",
       "LowDoc               2575\n",
       "DisbursementDate     2174\n",
       "DisbursementGross       0\n",
       "BalanceGross            0\n",
       "MIS_Status              0\n",
       "ChgOffPrinGr            0\n",
       "GrAppv                  0\n",
       "SBA_Appv                0\n",
       "dtype: int64"
      ]
     },
     "execution_count": 29,
     "metadata": {},
     "output_type": "execute_result"
    }
   ],
   "source": [
    "#Much better.\n",
    "credit.isnull().sum()"
   ]
  },
  {
   "cell_type": "code",
   "execution_count": 30,
   "metadata": {},
   "outputs": [],
   "source": [
    "#I decided drop Bank Name and Bank State on this stage. My idea was to use state as a predictor. \n",
    "#Becase different states has a different economic environments.\n",
    "#According to documentation State of Borrower is a right Feature to use for this goal.\n",
    "#Also Bank Name (> 5000 names) as a Borrowers Name is unique value so we can delete it too.\n",
    "#Columns: \"Disbursment Date\", \"DisbursementGross\", \"BalanceGross\" and \"ChgOffPrinGr\" \n",
    "#contains information after a loan was so we can't use these columns for predicting\n",
    "#Should this loan be Approved or Denied future borrowers. We will delete them.\n",
    "credit = credit.drop(axis =1, columns = ['Bank', 'BankState', 'DisbursementDate', 'DisbursementGross', 'BalanceGross','ChgOffPrinGr'])"
   ]
  },
  {
   "cell_type": "code",
   "execution_count": 31,
   "metadata": {},
   "outputs": [
    {
     "data": {
      "text/plain": [
       "dict_keys(['N', '0', 'Y', 'T', nan, '`', ',', '1', 'C', '3', '2', 'R', '7', 'A', '5', '.', '4', '-', 'Q'])"
      ]
     },
     "execution_count": 31,
     "metadata": {},
     "output_type": "execute_result"
    }
   ],
   "source": [
    "#Now we have only 2 Feature left, with NAs: RevLineCr, LowDoc\n",
    "#According to the documentation. Revolving line of credit: Y = Yes, N = No\n",
    "Counter(credit.RevLineCr).keys() #dict_keys(['N', '0', 'Y', 'T', nan, '`', ',', '1', 'C', '3', '2', 'R', '7', 'A', '5', '.', '4', '-', 'Q'])"
   ]
  },
  {
   "cell_type": "code",
   "execution_count": 32,
   "metadata": {},
   "outputs": [
    {
     "data": {
      "text/plain": [
       "dict_values([418226, 257375, 200588, 15232, 4517, 11, 1, 22, 2, 1, 6, 14, 1, 1, 1, 1, 1, 1, 1])"
      ]
     },
     "execution_count": 32,
     "metadata": {},
     "output_type": "execute_result"
    }
   ],
   "source": [
    "Counter(credit.RevLineCr).values() #dict_values([418855, 257132, 200476, 15227, 4516, 11, 1, 23, 2, 1, 6, 14, 1, 1, 1, 1, 1, 1, 1])"
   ]
  },
  {
   "cell_type": "code",
   "execution_count": 33,
   "metadata": {},
   "outputs": [
    {
     "data": {
      "text/plain": [
       "dict_keys(['Y', 'N', 'C', '1', nan, 'S', 'R', 'A', '0'])"
      ]
     },
     "execution_count": 33,
     "metadata": {},
     "output_type": "execute_result"
    }
   ],
   "source": [
    "#LowDoc Loan Program: Y = Yes, N = No\n",
    "Counter(credit.LowDoc).keys() #dict_keys(['Y', 'N', 'C', '1', nan, 'S', 'R', 'A', '0'])"
   ]
  },
  {
   "cell_type": "code",
   "execution_count": 34,
   "metadata": {},
   "outputs": [
    {
     "data": {
      "text/plain": [
       "dict_values([110046, 779966, 754, 1, 2575, 602, 74, 495, 1489])"
      ]
     },
     "execution_count": 34,
     "metadata": {},
     "output_type": "execute_result"
    }
   ],
   "source": [
    "Counter(credit.LowDoc).values() #dict_values([110047, 780227, 757, 1, 2578, 603, 74, 494, 1490])"
   ]
  },
  {
   "cell_type": "code",
   "execution_count": 35,
   "metadata": {},
   "outputs": [],
   "source": [
    "#I made little research about \"LowDoc program\" so it is a loans less than 150 000$ and for shorter terms. \n",
    "#To get this loan you need less documents\n",
    "#And it was very popular loan program in USA from 2000-2007 years. And seems like it's strong predictor\n",
    "#I will select rows with this condition and check values in LowDoc feauture\n",
    "#But First I should convert ApprovalDate from object to DateTime format\n",
    "from datetime import date\n",
    "credit['ApprovalDate'] = credit['ApprovalDate'].astype(str)\n",
    "credit['ApprovalDate'] = pd.to_datetime(credit['ApprovalDate'])"
   ]
  },
  {
   "cell_type": "code",
   "execution_count": 169,
   "metadata": {},
   "outputs": [],
   "source": [
    "cond_6 = credit[(credit['LowDoc'] != \"Y\") & (credit['LowDoc'] != \"N\")]\n",
    "cond_6\n",
    "#5997 rows with NAs and other different values. (1404)\n",
    "#Seems like it's very important value we will not drop rows with NAs. We will try predict LowDoc value using other features"
   ]
  },
  {
   "cell_type": "code",
   "execution_count": 37,
   "metadata": {},
   "outputs": [
    {
     "data": {
      "text/plain": [
       "dict_keys(['C', '1', nan, 'S', 'R', 'A', '0'])"
      ]
     },
     "execution_count": 37,
     "metadata": {},
     "output_type": "execute_result"
    }
   ],
   "source": [
    "Counter(cond_6.LowDoc).values() #dict_values([757, 1, 2578, 603, 74, 494, 1490])\n",
    "Counter(cond_6.LowDoc).keys() #dict_keys(['C', '1', nan, 'S', 'R', 'A', '0'])"
   ]
  },
  {
   "cell_type": "code",
   "execution_count": 38,
   "metadata": {},
   "outputs": [
    {
     "data": {
      "text/plain": [
       "dict_values([4415, 1575])"
      ]
     },
     "execution_count": 38,
     "metadata": {},
     "output_type": "execute_result"
    }
   ],
   "source": [
    "#Lets see how many rows in cond_6 are default cases\n",
    "Counter(cond_6.MIS_Status).values()\n",
    "#4420 rows not defautl\n",
    "#1577 default cases. \n",
    "#Would be nice to impute this rows with values."
   ]
  },
  {
   "cell_type": "code",
   "execution_count": 39,
   "metadata": {},
   "outputs": [],
   "source": [
    "#Lets examine LowDoc loans and Not LowDoc loans and try to find any patterns\n",
    "low_doc = credit[credit['LowDoc'] == \"Y\"]"
   ]
  },
  {
   "cell_type": "code",
   "execution_count": 40,
   "metadata": {},
   "outputs": [
    {
     "data": {
      "text/plain": [
       "count     110046.000000\n",
       "mean       68661.091816\n",
       "std        37671.332829\n",
       "min         4000.000000\n",
       "25%        40000.000000\n",
       "50%        60000.000000\n",
       "75%       100000.000000\n",
       "max      1000000.000000\n",
       "Name: GrAppv, dtype: float64"
      ]
     },
     "execution_count": 40,
     "metadata": {},
     "output_type": "execute_result"
    }
   ],
   "source": [
    "low_doc['GrAppv'].describe() # 75% of loans are =< $100 000"
   ]
  },
  {
   "cell_type": "code",
   "execution_count": 41,
   "metadata": {},
   "outputs": [],
   "source": [
    "#I will asign all values not equal to \"Y\" and \"N\" to nan\n",
    "#for i in cond_6:\n",
    "#    credit.iloc[i,15] = np.nan #15 = LowDoc column number"
   ]
  },
  {
   "cell_type": "code",
   "execution_count": 42,
   "metadata": {},
   "outputs": [
    {
     "data": {
      "text/plain": [
       "count    110046.000000\n",
       "mean         87.698026\n",
       "std          45.809016\n",
       "min           0.000000\n",
       "25%          60.000000\n",
       "50%          84.000000\n",
       "75%          93.000000\n",
       "max         511.000000\n",
       "Name: Term, dtype: float64"
      ]
     },
     "execution_count": 42,
     "metadata": {},
     "output_type": "execute_result"
    }
   ],
   "source": [
    "low_doc['Term'].describe() #75% or loans <= 93 month"
   ]
  },
  {
   "cell_type": "code",
   "execution_count": 43,
   "metadata": {},
   "outputs": [
    {
     "data": {
      "text/plain": [
       "dict_keys([1, 0])"
      ]
     },
     "execution_count": 43,
     "metadata": {},
     "output_type": "execute_result"
    }
   ],
   "source": [
    "Counter(low_doc.MIS_Status).keys() #MIS_Status 1 = 99359, 0 = 9835"
   ]
  },
  {
   "cell_type": "code",
   "execution_count": 44,
   "metadata": {},
   "outputs": [
    {
     "data": {
      "text/plain": [
       "dict_values([100153, 9893])"
      ]
     },
     "execution_count": 44,
     "metadata": {},
     "output_type": "execute_result"
    }
   ],
   "source": [
    "Counter(low_doc.MIS_Status).values() #MIS_Status 1 = 100162, 0 = 9885 (1 is 10 times more than 0)"
   ]
  },
  {
   "cell_type": "code",
   "execution_count": 45,
   "metadata": {},
   "outputs": [
    {
     "data": {
      "text/plain": [
       "Int64Index([  7413,  23459,  30877,  35740,  36376,  49151,  49160,  66702,\n",
       "             68794,  71166,\n",
       "            ...\n",
       "            879369, 882651, 885563, 886009, 886307, 886336, 886363, 887812,\n",
       "            891829, 894653],\n",
       "           dtype='int64', length=5990)"
      ]
     },
     "execution_count": 45,
     "metadata": {},
     "output_type": "execute_result"
    }
   ],
   "source": [
    "#Lets check do we have some rows in cond_6 with this conditions\n",
    "cond_6[(cond_6['GrAppv'] <= 100000) & (cond_6['Term'] <= 93) & (cond_6['MIS_Status'] == 1)]\n",
    "cond_6.index\n",
    "#Ok 1565 rows we can asign as 1 in LowDoc program It's better then just delete the rows."
   ]
  },
  {
   "cell_type": "code",
   "execution_count": 46,
   "metadata": {},
   "outputs": [
    {
     "name": "stderr",
     "output_type": "stream",
     "text": [
      "/Users/mirbek/anaconda3/lib/python3.7/site-packages/ipykernel_launcher.py:3: SettingWithCopyWarning: \n",
      "A value is trying to be set on a copy of a slice from a DataFrame\n",
      "\n",
      "See the caveats in the documentation: http://pandas.pydata.org/pandas-docs/stable/indexing.html#indexing-view-versus-copy\n",
      "  This is separate from the ipykernel package so we can avoid doing imports until\n"
     ]
    }
   ],
   "source": [
    "#I will iterate a loop to asign this rows in column 15 (LowDoc) with value 'Y'\n",
    "for i in cond_6.index:\n",
    "    credit.LowDoc[i] = 'Y'"
   ]
  },
  {
   "cell_type": "code",
   "execution_count": 47,
   "metadata": {},
   "outputs": [
    {
     "data": {
      "text/plain": [
       "dict_values([116036, 779966])"
      ]
     },
     "execution_count": 47,
     "metadata": {},
     "output_type": "execute_result"
    }
   ],
   "source": [
    "Counter(credit.LowDoc).keys()\n",
    "Counter(credit.LowDoc).values()"
   ]
  },
  {
   "cell_type": "code",
   "execution_count": 48,
   "metadata": {},
   "outputs": [
    {
     "data": {
      "text/html": [
       "<div>\n",
       "<style scoped>\n",
       "    .dataframe tbody tr th:only-of-type {\n",
       "        vertical-align: middle;\n",
       "    }\n",
       "\n",
       "    .dataframe tbody tr th {\n",
       "        vertical-align: top;\n",
       "    }\n",
       "\n",
       "    .dataframe thead th {\n",
       "        text-align: right;\n",
       "    }\n",
       "</style>\n",
       "<table border=\"1\" class=\"dataframe\">\n",
       "  <thead>\n",
       "    <tr style=\"text-align: right;\">\n",
       "      <th></th>\n",
       "      <th>LoanNr_ChkDgt</th>\n",
       "      <th>City</th>\n",
       "      <th>State</th>\n",
       "      <th>Zip</th>\n",
       "      <th>NAICS</th>\n",
       "      <th>ApprovalDate</th>\n",
       "      <th>ApprovalFY</th>\n",
       "      <th>Term</th>\n",
       "      <th>NoEmp</th>\n",
       "      <th>NewExist</th>\n",
       "      <th>CreateJob</th>\n",
       "      <th>RetainedJob</th>\n",
       "      <th>FranchiseCode</th>\n",
       "      <th>UrbanRural</th>\n",
       "      <th>RevLineCr</th>\n",
       "      <th>LowDoc</th>\n",
       "      <th>MIS_Status</th>\n",
       "      <th>GrAppv</th>\n",
       "      <th>SBA_Appv</th>\n",
       "    </tr>\n",
       "  </thead>\n",
       "  <tbody>\n",
       "  </tbody>\n",
       "</table>\n",
       "</div>"
      ],
      "text/plain": [
       "Empty DataFrame\n",
       "Columns: [LoanNr_ChkDgt, City, State, Zip, NAICS, ApprovalDate, ApprovalFY, Term, NoEmp, NewExist, CreateJob, RetainedJob, FranchiseCode, UrbanRural, RevLineCr, LowDoc, MIS_Status, GrAppv, SBA_Appv]\n",
       "Index: []"
      ]
     },
     "execution_count": 48,
     "metadata": {},
     "output_type": "execute_result"
    }
   ],
   "source": [
    "#Examine results\n",
    "credit[(credit['LowDoc'] != \"Y\") & (credit['LowDoc'] != \"N\")]\n",
    "#Seems like we have imputed all NA's in this feature"
   ]
  },
  {
   "cell_type": "code",
   "execution_count": 168,
   "metadata": {},
   "outputs": [],
   "source": [
    "cond_7 = credit[(credit['RevLineCr'] != \"Y\") & (credit['RevLineCr'] != \"N\")] #277188 rows"
   ]
  },
  {
   "cell_type": "code",
   "execution_count": 50,
   "metadata": {},
   "outputs": [
    {
     "data": {
      "text/plain": [
       "dict_values([232029, 45159])"
      ]
     },
     "execution_count": 50,
     "metadata": {},
     "output_type": "execute_result"
    }
   ],
   "source": [
    "Counter(cond_7.MIS_Status).values() # 1:232029 0:45159 rows."
   ]
  },
  {
   "cell_type": "code",
   "execution_count": 51,
   "metadata": {},
   "outputs": [],
   "source": [
    "#We will select all rows with RevLine Yes and RevLine No and try to find any patterns to impute NAs\n",
    "RevLine_yes = credit[credit['RevLineCr'] == \"Y\"]\n",
    "RevLine_no = credit[credit['RevLineCr'] == \"N\"]"
   ]
  },
  {
   "cell_type": "code",
   "execution_count": 52,
   "metadata": {},
   "outputs": [
    {
     "data": {
      "text/plain": [
       "count    200588.000000\n",
       "mean         61.511980\n",
       "std          27.129776\n",
       "min           0.000000\n",
       "25%          39.000000\n",
       "50%          75.000000\n",
       "75%          84.000000\n",
       "max         312.000000\n",
       "Name: Term, dtype: float64"
      ]
     },
     "execution_count": 52,
     "metadata": {},
     "output_type": "execute_result"
    }
   ],
   "source": [
    "RevLine_yes.Term.describe() #highest term 312"
   ]
  },
  {
   "cell_type": "code",
   "execution_count": 53,
   "metadata": {},
   "outputs": [
    {
     "data": {
      "text/plain": [
       "count    418226.000000\n",
       "mean        126.002401\n",
       "std          82.116668\n",
       "min           0.000000\n",
       "25%          60.000000\n",
       "50%          84.000000\n",
       "75%         180.000000\n",
       "max         527.000000\n",
       "Name: Term, dtype: float64"
      ]
     },
     "execution_count": 53,
     "metadata": {},
     "output_type": "execute_result"
    }
   ],
   "source": [
    "RevLine_no.Term.describe() #highest term 3527"
   ]
  },
  {
   "cell_type": "code",
   "execution_count": 54,
   "metadata": {},
   "outputs": [
    {
     "data": {
      "text/plain": [
       "dict_values([356888, 61338])"
      ]
     },
     "execution_count": 54,
     "metadata": {},
     "output_type": "execute_result"
    }
   ],
   "source": [
    "Counter(RevLine_no.MIS_Status).values() # 1 = 356888 0 = 61338"
   ]
  },
  {
   "cell_type": "code",
   "execution_count": 55,
   "metadata": {},
   "outputs": [
    {
     "data": {
      "text/plain": [
       "dict_values([149605, 50983])"
      ]
     },
     "execution_count": 55,
     "metadata": {},
     "output_type": "execute_result"
    }
   ],
   "source": [
    "Counter(RevLine_yes.MIS_Status).values() # 1 = 149605 0 = 50983"
   ]
  },
  {
   "cell_type": "code",
   "execution_count": 56,
   "metadata": {},
   "outputs": [
    {
     "data": {
      "text/plain": [
       "count    418226.000000\n",
       "mean         14.409585\n",
       "std          86.737200\n",
       "min           0.000000\n",
       "25%           2.000000\n",
       "50%           5.000000\n",
       "75%          14.000000\n",
       "max        9999.000000\n",
       "Name: NoEmp, dtype: float64"
      ]
     },
     "execution_count": 56,
     "metadata": {},
     "output_type": "execute_result"
    }
   ],
   "source": [
    "RevLine_no.NoEmp.describe()"
   ]
  },
  {
   "cell_type": "code",
   "execution_count": 57,
   "metadata": {},
   "outputs": [
    {
     "data": {
      "text/plain": [
       "count    200588.000000\n",
       "mean          6.851641\n",
       "std          39.998035\n",
       "min           0.000000\n",
       "25%           2.000000\n",
       "50%           3.000000\n",
       "75%           6.000000\n",
       "max        8000.000000\n",
       "Name: NoEmp, dtype: float64"
      ]
     },
     "execution_count": 57,
     "metadata": {},
     "output_type": "execute_result"
    }
   ],
   "source": [
    "RevLine_yes.NoEmp.describe()"
   ]
  },
  {
   "cell_type": "code",
   "execution_count": 58,
   "metadata": {},
   "outputs": [
    {
     "data": {
      "text/plain": [
       "dict_values([125348, 292878])"
      ]
     },
     "execution_count": 58,
     "metadata": {},
     "output_type": "execute_result"
    }
   ],
   "source": [
    "Counter(RevLine_no.NewExist).values() # 2 = 125348 1 = 292878"
   ]
  },
  {
   "cell_type": "code",
   "execution_count": 59,
   "metadata": {},
   "outputs": [
    {
     "data": {
      "text/plain": [
       "dict_values([42712, 157876])"
      ]
     },
     "execution_count": 59,
     "metadata": {},
     "output_type": "execute_result"
    }
   ],
   "source": [
    "Counter(RevLine_yes.NewExist).values() # 2 = 42712 1 = 157876"
   ]
  },
  {
   "cell_type": "code",
   "execution_count": 60,
   "metadata": {},
   "outputs": [],
   "source": [
    "#I can't find any clear pattern and there are lot of NA's in this row so I decided to delete this column on this stage.\n",
    "#Also I find out that column #0 is unique too. It's ID number of Identifier – Primary key. We will drop it too.\n",
    "#We don't need columns with dates any more: ApprovalDate, ApprovalFY\n",
    "#SBA_Appv - it's guaranteed ammount from US government is useless too. \n",
    "# We don't need"
   ]
  },
  {
   "cell_type": "code",
   "execution_count": 61,
   "metadata": {},
   "outputs": [],
   "source": [
    "credit = credit.drop(axis =1, columns = ['Zip','LoanNr_ChkDgt','ApprovalDate', 'ApprovalFY','RevLineCr','SBA_Appv'])"
   ]
  },
  {
   "cell_type": "code",
   "execution_count": 163,
   "metadata": {},
   "outputs": [],
   "source": [
    "Counter(credit.City).keys() # 2 = 125348 1 = 292878 \n",
    "#We can try to create a feature according to cities (Small, Big, Medium) but may be later for improving model. \n",
    "#On this stage I think we can drop this column, too many unique values."
   ]
  },
  {
   "cell_type": "code",
   "execution_count": 164,
   "metadata": {},
   "outputs": [],
   "source": [
    "Counter(credit.State).keys() \n",
    "#My idea is to create new features using States and NAICS. For each State and for  eahc Sector of business I will give a points.\n",
    "#Lower default rate higher points."
   ]
  },
  {
   "cell_type": "code",
   "execution_count": 65,
   "metadata": {},
   "outputs": [],
   "source": [
    "#Function extracts first 2 digits from variable, if variables = 0, returns 0\n",
    "def first_two(d):\n",
    "    if d <= 0:\n",
    "        return 0\n",
    "    return (d // 10 ** (int(math.log(d, 10)) - 1))\n",
    "#Function returns points according to the given rate. Lower rate, higher points.\n",
    "def point_def(rate):\n",
    "    if rate <= 12:\n",
    "        return 5\n",
    "    elif  12 < rate <= 17: \n",
    "        return 4\n",
    "    elif 17 < rate <= 21:\n",
    "        return 3\n",
    "    elif 21 < rate <= 25:\n",
    "        return 2\n",
    "    elif rate > 25:\n",
    "        return 1"
   ]
  },
  {
   "cell_type": "code",
   "execution_count": 76,
   "metadata": {},
   "outputs": [],
   "source": [
    "#Function returns points according to the default rate of each sector.\n",
    "def apply_score(i):\n",
    "    sector_default = {21 : 8, 11 : 9, 55 : 10, 62:10, 22:14, 92:15,54:19, 42:19,31:19,32:16,33:14,81:20,71:21,72:22,44:22,45:23,23:23,56:24,61:24,51:25,48:27,49:23,52:28,53:29}\n",
    "    if i > 0:\n",
    "        defrate = None\n",
    "        if i in sector_default:\n",
    "            defrate = sector_default[i]\n",
    "            return point_def(defrate)\n",
    "    return 0"
   ]
  },
  {
   "cell_type": "code",
   "execution_count": 89,
   "metadata": {},
   "outputs": [],
   "source": [
    "#After the functions ready I will create a new column - \"Sector_Points\" and apply functions to get points\n",
    "credit['Sector_Points'] = credit.NAICS.apply(first_two).apply(apply_score)"
   ]
  },
  {
   "cell_type": "code",
   "execution_count": 87,
   "metadata": {},
   "outputs": [],
   "source": [
    "#Next we will give points to each State.\n",
    "#I decide indicate in library highest default rates and lowest default rates only and for states left I asign def rate = 18 (mean)\n",
    "#Function for score states\n",
    "def apply_score_state(i):\n",
    "    state_default = {'MT':8, 'ND': 8, 'WY':8, 'SD':8, 'VT':8, 'ME':10,'NH':10, 'NM':10, 'AK':10, 'WA':13,'AD':13, 'MN':13, \n",
    "                     'WI':13, 'IA':13,'NE':13, 'KS':13, 'MA':13,'CT':13,'RI':13,'PA':13, 'NV':23, 'IL':23, 'MI':23, 'KY':23,\n",
    "                     'GA':23, 'FL':28}\n",
    "    temp_defrate = None\n",
    "    average_def_rate = 18\n",
    "    if i in state_default:\n",
    "        temp_defrate = state_default[i]\n",
    "        return point_def(temp_defrate)\n",
    "    return point_def(average_def_rate)\n"
   ]
  },
  {
   "cell_type": "code",
   "execution_count": 166,
   "metadata": {},
   "outputs": [],
   "source": [
    "#Apply function and create new feature\n",
    "credit['State_Points'] = credit.State.apply(apply_score_state)"
   ]
  },
  {
   "cell_type": "code",
   "execution_count": 90,
   "metadata": {},
   "outputs": [],
   "source": [
    "#I think on this stage we can drop columns:\"City\",\"State\" and \"NAICS\"\n",
    "#Becuase when I will dummify this columns espacially State will create 50 more features.\n",
    "credit = credit.drop(axis =1, columns = ['City', 'State', 'NAICS'])"
   ]
  },
  {
   "cell_type": "code",
   "execution_count": 92,
   "metadata": {},
   "outputs": [],
   "source": [
    "#Next I wan't change some Column this way:\n",
    "#Term to Years 12 = 1 etc\n",
    "#CreateJob to IscreateJob (1,0)\n",
    "#Retained Job to IsRetainedJob (1,0)\n",
    "#FranchiseCode to IsFranchise (1,0)\n",
    "credit.Term = credit.Term//12"
   ]
  },
  {
   "cell_type": "code",
   "execution_count": 132,
   "metadata": {},
   "outputs": [],
   "source": [
    "#For I will create simple function which I can apply to several columns and create new features.\n",
    "def yes_no(i):\n",
    "    if i > 0:\n",
    "        return 1\n",
    "    return 0"
   ]
  },
  {
   "cell_type": "code",
   "execution_count": null,
   "metadata": {},
   "outputs": [],
   "source": [
    "credit['IscreateJob'] = credit.CreateJob.apply(yes_no)"
   ]
  },
  {
   "cell_type": "code",
   "execution_count": 133,
   "metadata": {},
   "outputs": [],
   "source": [
    "credit['IsRetained'] = credit.RetainedJob.apply(yes_no)"
   ]
  },
  {
   "cell_type": "code",
   "execution_count": 119,
   "metadata": {},
   "outputs": [],
   "source": [
    "credit['IsFranchise'] = credit.FranchiseCode.apply(yes_no)"
   ]
  },
  {
   "cell_type": "code",
   "execution_count": 143,
   "metadata": {},
   "outputs": [],
   "source": [
    "#I will recode LowDoc Yes and No to 1 and 0.\n",
    "def lowdoc(i):\n",
    "    if i == \"Y\":\n",
    "        return 1\n",
    "    return 0"
   ]
  },
  {
   "cell_type": "code",
   "execution_count": 144,
   "metadata": {},
   "outputs": [],
   "source": [
    "credit.LowDoc = credit.LowDoc.apply(lowdoc)"
   ]
  },
  {
   "cell_type": "code",
   "execution_count": 129,
   "metadata": {},
   "outputs": [
    {
     "data": {
      "text/plain": [
       "dict_values([322315, 468811, 104876])"
      ]
     },
     "execution_count": 129,
     "metadata": {},
     "output_type": "execute_result"
    }
   ],
   "source": [
    "Counter(credit.UrbanRural).values() #1 = Urban, 2 =Rural, 0 = Undefined"
   ]
  },
  {
   "cell_type": "code",
   "execution_count": 146,
   "metadata": {},
   "outputs": [],
   "source": [
    "#Since we don't need FrancshiseCode colmn I will drop it\n",
    "credit = credit.drop(axis =1, columns = ['FranchiseCode'])"
   ]
  },
  {
   "cell_type": "code",
   "execution_count": null,
   "metadata": {},
   "outputs": [],
   "source": [
    "#We finish with data cleaning and feature engeneering.\n",
    "#But as you remember we have imbalanced data set. ([738522, 157480])\n",
    "# Idea is to use a combination of over- and under-sampling "
   ]
  },
  {
   "cell_type": "code",
   "execution_count": null,
   "metadata": {},
   "outputs": [],
   "source": []
  },
  {
   "cell_type": "code",
   "execution_count": null,
   "metadata": {},
   "outputs": [],
   "source": []
  },
  {
   "cell_type": "code",
   "execution_count": null,
   "metadata": {},
   "outputs": [],
   "source": []
  },
  {
   "cell_type": "code",
   "execution_count": 162,
   "metadata": {},
   "outputs": [],
   "source": []
  },
  {
   "cell_type": "code",
   "execution_count": 71,
   "metadata": {},
   "outputs": [],
   "source": []
  }
 ],
 "metadata": {
  "kernelspec": {
   "display_name": "Python 3",
   "language": "python",
   "name": "python3"
  },
  "language_info": {
   "codemirror_mode": {
    "name": "ipython",
    "version": 3
   },
   "file_extension": ".py",
   "mimetype": "text/x-python",
   "name": "python",
   "nbconvert_exporter": "python",
   "pygments_lexer": "ipython3",
   "version": "3.7.2"
  }
 },
 "nbformat": 4,
 "nbformat_minor": 2
}
